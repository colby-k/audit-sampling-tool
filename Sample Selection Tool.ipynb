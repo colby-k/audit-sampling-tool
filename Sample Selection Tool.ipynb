{
 "cells": [
  {
   "cell_type": "markdown",
   "metadata": {},
   "source": [
    "# Basic Audit Sampling Tool"
   ]
  },
  {
   "cell_type": "code",
   "execution_count": 4,
   "metadata": {},
   "outputs": [
    {
     "data": {
      "application/vnd.jupyter.widget-view+json": {
       "model_id": "465d95bd45ad44aca3990f421d54aaf0",
       "version_major": 2,
       "version_minor": 0
      },
      "text/plain": [
       "Button(description='Upload Population Data', style=ButtonStyle())"
      ]
     },
     "metadata": {},
     "output_type": "display_data"
    },
    {
     "data": {
      "application/vnd.jupyter.widget-view+json": {
       "model_id": "1e8576399f8941bba0312d7317067ed9",
       "version_major": 2,
       "version_minor": 0
      },
      "text/plain": [
       "Dropdown(description='Sampling Method:', options=('Simple Random Sampling', 'Stratified Sampling', 'Systematic…"
      ]
     },
     "metadata": {},
     "output_type": "display_data"
    },
    {
     "data": {
      "application/vnd.jupyter.widget-view+json": {
       "model_id": "ceca64b669c14ebe88ac3c43a0673d32",
       "version_major": 2,
       "version_minor": 0
      },
      "text/plain": [
       "IntSlider(value=25, description='Sample Size:', max=1000, min=1)"
      ]
     },
     "metadata": {},
     "output_type": "display_data"
    },
    {
     "data": {
      "application/vnd.jupyter.widget-view+json": {
       "model_id": "ac2c52dbe2f54f9e98fc8ba26fdcf0ad",
       "version_major": 2,
       "version_minor": 0
      },
      "text/plain": [
       "Button(description='Generate Sample', style=ButtonStyle())"
      ]
     },
     "metadata": {},
     "output_type": "display_data"
    },
    {
     "data": {
      "application/vnd.jupyter.widget-view+json": {
       "model_id": "66d98ea2c8ab42f5a8100d0599d2bd8e",
       "version_major": 2,
       "version_minor": 0
      },
      "text/plain": [
       "Button(description='Save Sample', style=ButtonStyle())"
      ]
     },
     "metadata": {},
     "output_type": "display_data"
    }
   ],
   "source": [
    "import pandas as pd\n",
    "import numpy as np\n",
    "import ipywidgets as widgets\n",
    "from IPython.display import display\n",
    "from tkinter import Tk, filedialog\n",
    "\n",
    "# Define widgets for user input\n",
    "sampling_method_dropdown = widgets.Dropdown(\n",
    "    options=['Simple Random Sampling', 'Stratified Sampling', 'Systematic Sampling'],\n",
    "    value='Simple Random Sampling',\n",
    "    description='Sampling Method:'\n",
    ")\n",
    "\n",
    "sample_size_slider = widgets.IntSlider(\n",
    "    value=25,\n",
    "    min=1,\n",
    "    max=1000,  # Set a default max value, will be updated after file upload\n",
    "    step=1,\n",
    "    description='Sample Size:'\n",
    ")\n",
    "\n",
    "# File upload widget\n",
    "def upload_file(_):\n",
    "    root = Tk()\n",
    "    root.withdraw()  # Hide the main window\n",
    "    file_path = filedialog.askopenfilename(title='Select Population Data File')\n",
    "    if file_path:\n",
    "        global population_df\n",
    "        population_df = pd.read_csv(file_path)\n",
    "        sample_size_slider.max = len(population_df)  # Update the max value of the sample size slider\n",
    "        print(f\"Population data loaded from: {file_path}\")\n",
    "    else:\n",
    "        print(\"File not selected or not found.\")\n",
    "\n",
    "upload_button = widgets.Button(description='Upload Population Data')\n",
    "upload_button.on_click(upload_file)\n",
    "\n",
    "# Save sample button\n",
    "def save_sample(_):\n",
    "    if 'sample_df' in globals():\n",
    "        file_path = filedialog.asksaveasfilename(title='Save Sample File', defaultextension='.csv')\n",
    "        if file_path:\n",
    "            sample_df.to_csv(file_path, index=False)\n",
    "            print(f\"Sample saved to: {file_path}\")\n",
    "        else:\n",
    "            print(\"Save operation cancelled.\")\n",
    "    else:\n",
    "        print(\"No sample to save. Please generate a sample first.\")\n",
    "\n",
    "save_button = widgets.Button(description='Save Sample')\n",
    "save_button.on_click(save_sample)\n",
    "\n",
    "# Create a button to trigger sample selection\n",
    "generate_sample_button = widgets.Button(description='Generate Sample')\n",
    "\n",
    "\n",
    "\n",
    "def generate_sample(_):\n",
    "    selected_method = sampling_method_dropdown.value\n",
    "    selected_size = sample_size_slider.value\n",
    "    \n",
    "    # Initialize sample_indices\n",
    "    sample_indices = None\n",
    "    \n",
    "    # Select sample based on chosen method\n",
    "    if selected_method == 'Simple Random Sampling':\n",
    "        sample_indices = np.random.choice(population_df.index, size=selected_size, replace=False)\n",
    "    elif selected_method == 'Stratified Sampling':\n",
    "        # Implement stratified sampling logic\n",
    "        # Make sure to assign a value to sample_indices within this block\n",
    "        pass\n",
    "    elif selected_method == 'Systematic Sampling':\n",
    "        # Implement systematic sampling logic\n",
    "        pass\n",
    "    else:\n",
    "        print(\"Invalid sampling method selected.\")\n",
    "        return\n",
    "    \n",
    "    # Check if sample_indices has been set\n",
    "    if sample_indices is not None:\n",
    "        global sample_df\n",
    "        sample_df = population_df.loc[sample_indices]\n",
    "        print(f\"Sample of {selected_size} records selected successfully.\")\n",
    "    else:\n",
    "        print(\"Sampling method not implemented or sample_indices not set.\")\n",
    "\n",
    "\n",
    "# Attach the button click event\n",
    "generate_sample_button.on_click(generate_sample)\n",
    "\n",
    "# Display widgets\n",
    "display(upload_button, sampling_method_dropdown, sample_size_slider, generate_sample_button, save_button)\n",
    "\n",
    "# Note: The script assumes that 'population_df' is a global variable that will be set after file upload.\n",
    "# Make sure to upload a file before generating a sample.\n"
   ]
  },
  {
   "cell_type": "code",
   "execution_count": 4,
   "metadata": {},
   "outputs": [
    {
     "data": {
      "application/vnd.jupyter.widget-view+json": {
       "model_id": "15972a5a7da946a4b2c7708cd20e2ba1",
       "version_major": 2,
       "version_minor": 0
      },
      "text/plain": [
       "FileUpload(value={}, accept='.csv', description='Upload Population Data')"
      ]
     },
     "metadata": {},
     "output_type": "display_data"
    },
    {
     "data": {
      "application/vnd.jupyter.widget-view+json": {
       "model_id": "7782b2eaaffd4750a3161f7203c93e35",
       "version_major": 2,
       "version_minor": 0
      },
      "text/plain": [
       "Dropdown(description='Sampling Method:', options=('Simple Random Sampling', 'Stratified Sampling', 'Systematic…"
      ]
     },
     "metadata": {},
     "output_type": "display_data"
    },
    {
     "data": {
      "application/vnd.jupyter.widget-view+json": {
       "model_id": "68495a196b2044a18346bc3e89fa7200",
       "version_major": 2,
       "version_minor": 0
      },
      "text/plain": [
       "IntSlider(value=25, description='Sample Size:', disabled=True, max=1000, min=1)"
      ]
     },
     "metadata": {},
     "output_type": "display_data"
    },
    {
     "data": {
      "application/vnd.jupyter.widget-view+json": {
       "model_id": "40cc156dedb942019937a6786a7b72fd",
       "version_major": 2,
       "version_minor": 0
      },
      "text/plain": [
       "Button(description='Generate Sample', style=ButtonStyle())"
      ]
     },
     "metadata": {},
     "output_type": "display_data"
    },
    {
     "data": {
      "application/vnd.jupyter.widget-view+json": {
       "model_id": "3ad046d8d53549bc81781e2ab003f2c6",
       "version_major": 2,
       "version_minor": 0
      },
      "text/plain": [
       "Button(description='Save Sample', style=ButtonStyle())"
      ]
     },
     "metadata": {},
     "output_type": "display_data"
    }
   ],
   "source": [
    "import pandas as pd\n",
    "import numpy as np\n",
    "import io\n",
    "from IPython.display import display\n",
    "import ipywidgets as widgets\n",
    "\n",
    "# Define widgets for user input\n",
    "sampling_method_dropdown = widgets.Dropdown(\n",
    "    options=['Simple Random Sampling', 'Stratified Sampling', 'Systematic Sampling'],\n",
    "    value='Simple Random Sampling',\n",
    "    description='Sampling Method:',\n",
    "    disabled=False,\n",
    ")\n",
    "\n",
    "sample_size_slider = widgets.IntSlider(\n",
    "    value=25,\n",
    "    min=1,\n",
    "    max=1000,  # Initially disabled, enabled upon successful file upload\n",
    "    step=1,\n",
    "    description='Sample Size:',\n",
    "    disabled=True\n",
    ")\n",
    "\n",
    "file_upload = widgets.FileUpload(\n",
    "    accept='.csv',\n",
    "    multiple=False,\n",
    "    description='Upload Population Data'\n",
    ")\n",
    "\n",
    "def handle_file_upload(change):\n",
    "    global population_df\n",
    "    try:\n",
    "        # Ensure we are accessing the file content correctly\n",
    "        uploaded_files = file_upload.value\n",
    "        if uploaded_files:\n",
    "            # Assuming the first file in the uploaded file list\n",
    "            uploaded_file = next(iter(uploaded_files.values()))\n",
    "            content = uploaded_file['content']\n",
    "            population_df = pd.read_csv(io.BytesIO(content))\n",
    "            sample_size_slider.max = len(population_df)\n",
    "            sample_size_slider.disabled = False\n",
    "            print(\"Population data loaded successfully.\")\n",
    "        else:\n",
    "            print(\"No file uploaded.\")\n",
    "    except Exception as e:\n",
    "        print(\"Failed to load data:\", e)\n",
    "\n",
    "file_upload.observe(handle_file_upload, names='value')\n",
    "\n",
    "generate_sample_button = widgets.Button(description='Generate Sample')\n",
    "\n",
    "def generate_sample(_):\n",
    "    selected_method = sampling_method_dropdown.value\n",
    "    selected_size = sample_size_slider.value\n",
    "    sample_indices = None\n",
    "\n",
    "    if selected_method == 'Simple Random Sampling':\n",
    "        sample_indices = np.random.choice(population_df.index, size=selected_size, replace=False)\n",
    "    elif selected_method == 'Stratified Sampling':\n",
    "        print(\"Stratified Sampling not yet implemented.\")\n",
    "    elif selected_method == 'Systematic Sampling':\n",
    "        print(\"Systematic Sampling not yet implemented.\")\n",
    "    else:\n",
    "        print(\"Invalid sampling method selected.\")\n",
    "        return\n",
    "\n",
    "    if sample_indices is not None:\n",
    "        global sample_df\n",
    "        sample_df = population_df.loc[sample_indices]\n",
    "        print(f\"Sample of {selected_size} records selected successfully.\")\n",
    "\n",
    "generate_sample_button.on_click(generate_sample)\n",
    "\n",
    "save_button = widgets.Button(description='Save Sample')\n",
    "\n",
    "def save_sample(_):\n",
    "    if 'sample_df' in globals():\n",
    "        sample_df.to_csv('sample.csv', index=False)\n",
    "        print(\"Sample saved to 'sample.csv'.\")\n",
    "    else:\n",
    "        print(\"No sample to save. Please generate a sample first.\")\n",
    "\n",
    "save_button.on_click(save_sample)\n",
    "\n",
    "# Display widgets\n",
    "display(file_upload, sampling_method_dropdown, sample_size_slider, generate_sample_button, save_button)\n"
   ]
  },
  {
   "cell_type": "markdown",
   "metadata": {},
   "source": [
    "# Audit Sampling Tool Based on Risk"
   ]
  },
  {
   "cell_type": "code",
   "execution_count": null,
   "metadata": {},
   "outputs": [],
   "source": []
  },
  {
   "cell_type": "code",
   "execution_count": null,
   "metadata": {},
   "outputs": [],
   "source": [
    "import pandas as pd\n",
    "import numpy as np\n",
    "import ipywidgets as widgets\n",
    "from IPython.display import display, clear_output\n",
    "from tkinter import Tk, filedialog\n",
    "\n",
    "# Define a style for the descriptions to ensure they don't get cut off\n",
    "style = {'description_width': 'initial'}\n",
    "\n",
    "# Function to upload the population data file\n",
    "def upload_file():\n",
    "    root = Tk()\n",
    "    root.withdraw()  # Hide the main window\n",
    "    file_path = filedialog.askopenfilename(title='Select Population Data File')\n",
    "    if file_path:\n",
    "        population_df = pd.read_csv(file_path)\n",
    "        print(f\"Population data loaded from: {file_path}\")\n",
    "        return population_df\n",
    "    else:\n",
    "        print(\"File not selected or not found.\")\n",
    "        return None\n",
    "\n",
    "# Widget to upload population data\n",
    "upload_button = widgets.Button(description='Upload Population Data', style=style)\n",
    "upload_output = widgets.Output()\n",
    "\n",
    "def on_upload_clicked(b):\n",
    "    with upload_output:\n",
    "        clear_output()\n",
    "        global population_df\n",
    "        population_df = upload_file()\n",
    "        if population_df is not None:\n",
    "            sample_size_slider.max = len(population_df)  # Update the max value of the sample size slider\n",
    "upload_button.on_click(on_upload_clicked)\n",
    "\n",
    "# Widget to input total sample size\n",
    "total_sample_size_widget = widgets.IntSlider(\n",
    "    value=100,\n",
    "    min=1,\n",
    "    max=1000,  # Set a default max value, will be updated after file upload\n",
    "    step=1,\n",
    "    description='Total Sample Size:',\n",
    "    style=style\n",
    ")\n",
    "\n",
    "# Function to calculate recommended sample sizes using Neyman allocation\n",
    "def calculate_sample_sizes(b):\n",
    "    with sample_output:\n",
    "        clear_output()\n",
    "        if 'population_df' in globals():\n",
    "            # Assume 'stratum' is the column defining each stratum\n",
    "            # Also assume 'value' is the column you want to analyze\n",
    "            stratum_stats = population_df.groupby('stratum')['value'].agg(['size', 'std']).rename(columns={'size': 'N', 'std': 'sigma'})\n",
    "            N = stratum_stats['N'].sum()\n",
    "            sum_product_N_sigma = (stratum_stats['N'] * stratum_stats['sigma']).sum()\n",
    "            total_sample_size = total_sample_size_widget.value\n",
    "            stratum_stats['recommended_n'] = total_sample_size * (stratum_stats['N'] * stratum_stats['sigma']) / sum_product_N_sigma\n",
    "            print(stratum_stats['recommended_n'])\n",
    "        else:\n",
    "            print(\"Please upload population data first.\")\n",
    "\n",
    "calculate_button = widgets.Button(description='Calculate Sample Sizes', style=style)\n",
    "sample_output = widgets.Output()\n",
    "calculate_button.on_click(calculate_sample_sizes)\n",
    "\n",
    "# Sampling method dropdown\n",
    "sampling_method_dropdown = widgets.Dropdown(\n",
    "    options=['Simple Random Sampling', 'Stratified Sampling', 'Systematic Sampling'],\n",
    "    value='Simple Random Sampling',\n",
    "    description='Sampling Method:',\n",
    "    style=style\n",
    ")\n",
    "\n",
    "# Sample size slider\n",
    "sample_size_slider = widgets.IntSlider(\n",
    "    value=100,\n",
    "    min=1,\n",
    "    max=1000,  # This will be updated based on the population data\n",
    "    step=1,\n",
    "    description='Sample Size:',\n",
    "    style=style\n",
    ")\n",
    "\n",
    "# Generate sample button\n",
    "generate_sample_button = widgets.Button(description='Generate Sample', style=style)\n",
    "sample_generation_output = widgets.Output()\n",
    "\n",
    "def on_generate_sample_clicked(b):\n",
    "    with sample_generation_output:\n",
    "        clear_output()\n",
    "        if 'population_df' in globals():\n",
    "            selected_method = sampling_method_dropdown.value\n",
    "            selected_size = sample_size_slider.value\n",
    "            # Implement the sampling logic here based on the selected method\n",
    "            # For example, for Simple Random Sampling:\n",
    "            if selected_method == 'Simple Random Sampling':\n",
    "                sample_indices = np.random.choice(population_df.index, size=selected_size, replace=False)\n",
    "                global sample_df\n",
    "                sample_df = population_df.loc[sample_indices]\n",
    "                print(f\"Sample of {selected_size} records selected successfully.\")\n",
    "            # Add logic for other sampling methods\n",
    "        else:\n",
    "            print(\"Please upload population data first.\")\n",
    "\n",
    "generate_sample_button.on_click(on_generate_sample_clicked)\n",
    "\n",
    "# Save sample button\n",
    "save_button = widgets.Button(description='Save Sample', style=style)\n",
    "save_output = widgets.Output()\n",
    "\n",
    "def on_save_clicked(b):\n",
    "    with save_output:\n",
    "        clear_output()\n",
    "        if 'sample_df' in globals():\n",
    "            root = Tk()\n",
    "            root.withdraw()  # Hide the main window\n",
    "            file_path = filedialog.asksaveasfilename(title='Save Sample File', defaultextension='.csv')\n",
    "            if file_path:\n",
    "                sample_df.to_csv(file_path, index=False)\n",
    "                print(f\"Sample saved to: {file_path}\")\n",
    "            else:\n",
    "                print(\"Save operation cancelled.\")\n",
    "        else:\n",
    "            print(\"No sample to save. Please generate a sample first.\")\n",
    "\n",
    "save_button.on_click(on_save_clicked)\n",
    "\n",
    "# Display all widgets\n",
    "display(upload_button, upload_output)\n",
    "display(total_sample_size_widget, calculate_button, sample_output)\n",
    "display(sampling_method_dropdown, sample_size_slider)\n",
    "display(generate_sample_button, sample_generation_output)\n",
    "display(save_button, save_output)\n"
   ]
  }
 ],
 "metadata": {
  "kernelspec": {
   "display_name": "base",
   "language": "python",
   "name": "python3"
  },
  "language_info": {
   "codemirror_mode": {
    "name": "ipython",
    "version": 3
   },
   "file_extension": ".py",
   "mimetype": "text/x-python",
   "name": "python",
   "nbconvert_exporter": "python",
   "pygments_lexer": "ipython3",
   "version": "3.12.7"
  }
 },
 "nbformat": 4,
 "nbformat_minor": 2
}
